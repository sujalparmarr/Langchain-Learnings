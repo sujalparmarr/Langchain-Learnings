{
 "cells": [
  {
   "cell_type": "code",
   "execution_count": 1,
   "id": "fb283e11",
   "metadata": {},
   "outputs": [
    {
     "data": {
      "text/plain": [
       "True"
      ]
     },
     "execution_count": 1,
     "metadata": {},
     "output_type": "execute_result"
    }
   ],
   "source": [
    "from dotenv import load_dotenv\n",
    "from langchain_community.document_loaders import DirectoryLoader,PyPDFLoader\n",
    "load_dotenv()"
   ]
  },
  {
   "cell_type": "code",
   "execution_count": 10,
   "id": "3c2630d6",
   "metadata": {},
   "outputs": [
    {
     "name": "stdout",
     "output_type": "stream",
     "text": [
      "Technical Analysis of Stock Market\n",
      "Technical analysis involves evaluating stocks based on historical price and volume patterns. It\n",
      "helps traders predict future price movements using charts and technical indicators.\n",
      "1. Trend Analysis\n",
      "Identifying market trends (uptrend, downtrend, sideways) using price movements.\n",
      "2. Support and Resistance\n",
      "Support is the price level where demand is strong; resistance is where selling pressure is high.\n",
      "3. Moving Averages\n",
      "Averages of past prices (simple or exponential) to identify trends and potential reversals.\n",
      "4. Relative Strength Index (RSI)\n",
      "RSI measures the speed and change of price movements to identify overbought or oversold\n",
      "conditions.\n",
      "5. Bollinger Bands\n",
      "Bands plotted above and below a moving average indicating volatility and potential price breakouts.\n",
      "6. MACD (Moving Average Convergence Divergence)\n",
      "MACD shows the relationship between two moving averages, signaling trend changes and\n",
      "momentum.\n",
      "Conclusion: Technical analysis is widely used by traders for short-term decisions. Combining\n",
      "indicators and chart patterns helps identify potential entry and exit points in the market.\n"
     ]
    }
   ],
   "source": [
    "loader=DirectoryLoader(\n",
    "    path=\"stockmarket\",\n",
    "    glob=\"*.pdf\",\n",
    "    loader_cls=PyPDFLoader\n",
    ")\n",
    "docs=loader.load()\n",
    "\n",
    "\n",
    "print(docs[3].page_content)\n"
   ]
  },
  {
   "cell_type": "code",
   "execution_count": 6,
   "id": "a8265b43",
   "metadata": {},
   "outputs": [
    {
     "name": "stdout",
     "output_type": "stream",
     "text": [
      "{'producer': 'ReportLab PDF Library - www.reportlab.com', 'creator': '(unspecified)', 'creationdate': '2025-08-21T16:03:48+00:00', 'author': '(anonymous)', 'keywords': '', 'moddate': '2025-08-21T16:03:48+00:00', 'subject': '(unspecified)', 'title': '(anonymous)', 'trapped': '/False', 'source': 'stockmarket\\\\stock_market_fundamentals.pdf', 'total_pages': 2, 'page': 0, 'page_label': '1'}\n"
     ]
    }
   ],
   "source": [
    "print(docs[0].metadata)\n"
   ]
  },
  {
   "cell_type": "code",
   "execution_count": null,
   "id": "8a4dd00b",
   "metadata": {},
   "outputs": [],
   "source": []
  },
  {
   "cell_type": "code",
   "execution_count": null,
   "id": "d4b1d585",
   "metadata": {},
   "outputs": [],
   "source": []
  }
 ],
 "metadata": {
  "kernelspec": {
   "display_name": "venv",
   "language": "python",
   "name": "python3"
  },
  "language_info": {
   "codemirror_mode": {
    "name": "ipython",
    "version": 3
   },
   "file_extension": ".py",
   "mimetype": "text/x-python",
   "name": "python",
   "nbconvert_exporter": "python",
   "pygments_lexer": "ipython3",
   "version": "3.11.2"
  }
 },
 "nbformat": 4,
 "nbformat_minor": 5
}
