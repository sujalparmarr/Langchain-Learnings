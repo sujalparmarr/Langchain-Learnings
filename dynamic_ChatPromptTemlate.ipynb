{
 "cells": [
  {
   "cell_type": "code",
   "execution_count": 1,
   "id": "a1d5109b",
   "metadata": {},
   "outputs": [
    {
     "data": {
      "text/plain": [
       "True"
      ]
     },
     "execution_count": 1,
     "metadata": {},
     "output_type": "execute_result"
    }
   ],
   "source": [
    "from langchain_openai import ChatOpenAI\n",
    "from dotenv import load_dotenv\n",
    "from langchain_core.prompts import ChatPromptTemplate\n",
    "load_dotenv()"
   ]
  },
  {
   "cell_type": "code",
   "execution_count": 3,
   "id": "0a2f833d",
   "metadata": {},
   "outputs": [
    {
     "name": "stdout",
     "output_type": "stream",
     "text": [
      "AI is rewriting tomorrow: tiny models, massive impact. Share a moment you outsmarted yesterday with AI-powered intuition today for everyone.\n"
     ]
    }
   ],
   "source": [
    "prompt=ChatPromptTemplate([\n",
    "    \"system\",\"You are a {role} who writes viral social media posts about {topic}.\",\n",
    "    \"user\",\"Write a post of {word_count} words.\"\n",
    "])\n",
    "variable={\"role\":\"Growth Hacker\",\"topic\":\"Ai\",\"word_count\":20}\n",
    "template=prompt.invoke(variable)\n",
    "\n",
    "model = ChatOpenAI(model='gpt-5-nano')\n",
    "result=model.invoke(template)\n",
    "\n",
    "print(result.content)"
   ]
  },
  {
   "cell_type": "code",
   "execution_count": 7,
   "id": "cefe08ee",
   "metadata": {},
   "outputs": [
    {
     "name": "stdout",
     "output_type": "stream",
     "text": [
      "Post 1: AI unlocks the impossible: I piped ideas through ChatGPT, DALL·E, and Midjourney, transforming rough sketches into shareable outputs in minutes. Try it today, folks. #TriToolWizard\n",
      "\n",
      "Post 2: Swipe left on excuses—watch me break down a 5-step budget that actually sticks. Learn tricks to save, invest, and grow wealth without starving yourself. Perfect for beginners and families. #SmartSavingsSprint\n",
      "\n",
      "Post 3: Level up or stay stuck: your career growth hinges on deliberate choices, not luck. Invest in skills, seek mentors, and own your narrative daily. Small, consistent wins compound into impact, leadership, and lasting momentum that scales with your ambition. #CareerGrowthCatalyst2025\n",
      "\n"
     ]
    }
   ],
   "source": [
    "prompt=ChatPromptTemplate([\n",
    "    \"system\",\"You are a {role} who writes engaging content about {topic}.\",\n",
    "    \"user\",\"Write a post of {word_count} words with a catchy hook at the start.Also Add a unique hashtag to each post based on the {topic}\"\n",
    "])\n",
    "scenarios = [\n",
    "    {\"role\": \"Twitter influencer\", \"topic\": \"AI tools\", \"word_count\": 25},\n",
    "    {\"role\": \"YouTuber\", \"topic\": \"personal finance\", \"word_count\": 30},\n",
    "    {\"role\": \"LinkedIn content strategist\", \"topic\": \"career growth\", \"word_count\": 40}\n",
    "]\n",
    "model = ChatOpenAI(model='gpt-5-nano')\n",
    "\n",
    "'''for i in scenarios:\n",
    "    template=prompt.invoke(i)\n",
    "    result=model.invoke(template)\n",
    "    print(result.content)'''\n",
    "    \n",
    "for i in range(len(scenarios)):\n",
    "    template = prompt.invoke(scenarios[i])\n",
    "    result = model.invoke(template)\n",
    "    print(f\"Post {i+1}: {result.content}\\n\")    "
   ]
  },
  {
   "cell_type": "code",
   "execution_count": null,
   "id": "bb888e16",
   "metadata": {},
   "outputs": [],
   "source": []
  },
  {
   "cell_type": "code",
   "execution_count": null,
   "id": "ce55bbf7",
   "metadata": {},
   "outputs": [],
   "source": []
  },
  {
   "cell_type": "code",
   "execution_count": null,
   "id": "aba45e5f",
   "metadata": {},
   "outputs": [],
   "source": []
  }
 ],
 "metadata": {
  "kernelspec": {
   "display_name": "venv",
   "language": "python",
   "name": "python3"
  },
  "language_info": {
   "codemirror_mode": {
    "name": "ipython",
    "version": 3
   },
   "file_extension": ".py",
   "mimetype": "text/x-python",
   "name": "python",
   "nbconvert_exporter": "python",
   "pygments_lexer": "ipython3",
   "version": "3.11.2"
  }
 },
 "nbformat": 4,
 "nbformat_minor": 5
}
