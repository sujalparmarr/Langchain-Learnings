{
 "cells": [
  {
   "cell_type": "code",
   "execution_count": 7,
   "id": "fb1e4169",
   "metadata": {},
   "outputs": [],
   "source": [
    "from langchain_community.utilities import SQLDatabase\n",
    "from langchain_community.agent_toolkits import SQLDatabaseToolkit\n",
    "from langchain_openai import ChatOpenAI\n",
    "\n",
    "# Load database\n",
    "db = SQLDatabase.from_uri(\"sqlite:///movies.db\")\n",
    "llm = ChatOpenAI(model=\"gpt-4o-mini\")\n",
    "\n",
    "# Create toolkit\n",
    "toolkit = SQLDatabaseToolkit(db=db, llm=llm)\n",
    "tools = toolkit.get_tools()\n"
   ]
  },
  {
   "cell_type": "code",
   "execution_count": 8,
   "id": "dbbb82d6",
   "metadata": {},
   "outputs": [
    {
     "name": "stdout",
     "output_type": "stream",
     "text": [
      "\n",
      "\n",
      "\u001b[1m> Entering new AgentExecutor chain...\u001b[0m\n",
      "\u001b[32;1m\u001b[1;3mTo answer the question, I need to find the relevant table that contains movie data, including the release year and rating. First, I will check the tables available in the database.\n",
      "\n",
      "Action: sql_db_list_tables  \n",
      "Action Input: \"\"  \u001b[0m\n",
      "Observation: \u001b[38;5;200m\u001b[1;3mmovies\u001b[0m\n",
      "Thought:\u001b[32;1m\u001b[1;3mI found that there is a table named 'movies'. Next, I will check the schema of this table to understand its structure, particularly to find fields related to the release year and rating.\n",
      "\n",
      "Action: sql_db_schema  \n",
      "Action Input: \"movies\"  \u001b[0m\n",
      "Observation: \u001b[33;1m\u001b[1;3m\n",
      "CREATE TABLE movies (\n",
      "\tid INTEGER, \n",
      "\tname TEXT, \n",
      "\trelease_date DATE, \n",
      "\tgenre TEXT, \n",
      "\tdescription TEXT, \n",
      "\tPRIMARY KEY (id)\n",
      ")\n",
      "\n",
      "/*\n",
      "3 rows from movies table:\n",
      "id\tname\trelease_date\tgenre\tdescription\n",
      "1\tMovie Journey 1\t2013-02-16\tHorror\tA horror story about battle and love.\n",
      "2\tMovie Quest 2\t1984-03-19\tFantasy\tA fantasy story about dream and quest.\n",
      "3\tMovie Legend 3\t2021-01-25\tDrama\tA drama story about warrior and shadow.\n",
      "*/\u001b[0m\n",
      "Thought:\u001b[32;1m\u001b[1;3mThe 'movies' table includes the columns 'release_date' but does not explicitly contain a 'rating' field. However, there is a 'release_date' field that I can use to filter movies released after 2020. Since there is no rating field, the sorting cannot include rating. I will proceed to write a query to retrieve all movies released after January 1, 2021, sorted by their release date.\n",
      "\n",
      "Action: sql_db_query_checker  \n",
      "Action Input: \"SELECT * FROM movies WHERE release_date > '2020-12-31' ORDER BY release_date;\"  \u001b[0m\n",
      "Observation: \u001b[36;1m\u001b[1;3m```sql\n",
      "SELECT * FROM movies WHERE release_date > '2020-12-31' ORDER BY release_date;\n",
      "```\u001b[0m\n",
      "Thought:\u001b[32;1m\u001b[1;3mThe SQL query looks correct. I will proceed to execute this query to retrieve the desired data.\n",
      "\n",
      "Action: sql_db_query  \n",
      "Action Input: \"SELECT * FROM movies WHERE release_date > '2020-12-31' ORDER BY release_date;\"  \u001b[0m\n",
      "Observation: \u001b[36;1m\u001b[1;3m[(3, 'Movie Legend 3', '2021-01-25', 'Drama', 'A drama story about warrior and shadow.'), (31, 'Movie Love 31', '2021-02-11', 'Drama', 'A drama story about legend and legend.'), (45, 'Movie Secret 45', '2021-04-05', 'Fantasy', 'A fantasy story about dream and quest.'), (50, 'Movie Legend 50', '2021-04-21', 'Thriller', 'A thriller story about dream and journey.'), (74, 'Movie Legend 74', '2021-06-01', 'Comedy', 'A comedy story about secret and love.'), (71, 'Movie Dream 71', '2022-02-21', 'Action', 'A action story about battle and legend.'), (26, 'Movie Warrior 26', '2022-04-23', 'Fantasy', 'A fantasy story about future and love.'), (49, 'Movie Warrior 49', '2022-10-08', 'Sci-Fi', 'A sci-fi story about quest and shadow.'), (52, 'Movie Legend 52', '2023-02-25', 'Horror', 'A horror story about journey and future.'), (56, 'Movie Shadow 56', '2023-10-21', 'Drama', 'A drama story about legend and warrior.'), (81, 'Movie Legend 81', '2023-10-28', 'Drama', 'A drama story about dream and future.')]\u001b[0m\n",
      "Thought:\u001b[32;1m\u001b[1;3mI have successfully retrieved the list of movies released after January 1, 2021. Here are the results:\n",
      "\n",
      "1. Movie Legend 3 - Release Date: 2021-01-25\n",
      "2. Movie Love 31 - Release Date: 2021-02-11\n",
      "3. Movie Secret 45 - Release Date: 2021-04-05\n",
      "4. Movie Legend 50 - Release Date: 2021-04-21\n",
      "5. Movie Legend 74 - Release Date: 2021-06-01\n",
      "6. Movie Dream 71 - Release Date: 2022-02-21\n",
      "7. Movie Warrior 26 - Release Date: 2022-04-23\n",
      "8. Movie Warrior 49 - Release Date: 2022-10-08\n",
      "9. Movie Legend 52 - Release Date: 2023-02-25\n",
      "10. Movie Shadow 56 - Release Date: 2023-10-21\n",
      "11. Movie Legend 81 - Release Date: 2023-10-28\n",
      "\n",
      "While I wasn’t able to sort them by rating due to the absence of a rating field, the movies are sorted by their release date. \n",
      "\n",
      "Final Answer: Retrieved movies released after 2020, sorted by release date.\u001b[0m\n",
      "\n",
      "\u001b[1m> Finished chain.\u001b[0m\n"
     ]
    },
    {
     "data": {
      "text/plain": [
       "'Retrieved movies released after 2020, sorted by release date.'"
      ]
     },
     "execution_count": 8,
     "metadata": {},
     "output_type": "execute_result"
    }
   ],
   "source": [
    "from langchain.agents import initialize_agent, AgentType\n",
    "\n",
    "agent = initialize_agent(\n",
    "    tools=tools,\n",
    "    llm=llm,\n",
    "    agent=AgentType.ZERO_SHOT_REACT_DESCRIPTION,\n",
    "    verbose=True\n",
    ")\n",
    "\n",
    "# Example query\n",
    "agent.run(\"Show me all movies after 2020 sorted by rating\")\n"
   ]
  },
  {
   "cell_type": "code",
   "execution_count": 9,
   "id": "83fe7cde",
   "metadata": {},
   "outputs": [
    {
     "name": "stdout",
     "output_type": "stream",
     "text": [
      "\n",
      "\n",
      "\u001b[1m> Entering new SQL Agent Executor chain...\u001b[0m\n",
      "\u001b[32;1m\u001b[1;3m\n",
      "Invoking: `sql_db_list_tables` with `{}`\n",
      "\n",
      "\n",
      "\u001b[0m\u001b[38;5;200m\u001b[1;3mmovies\u001b[0m\u001b[32;1m\u001b[1;3m\n",
      "Invoking: `sql_db_schema` with `{'table_names': 'movies'}`\n",
      "\n",
      "\n",
      "\u001b[0m\u001b[33;1m\u001b[1;3m\n",
      "CREATE TABLE movies (\n",
      "\tid INTEGER, \n",
      "\tname TEXT, \n",
      "\trelease_date DATE, \n",
      "\tgenre TEXT, \n",
      "\tdescription TEXT, \n",
      "\tPRIMARY KEY (id)\n",
      ")\n",
      "\n",
      "/*\n",
      "3 rows from movies table:\n",
      "id\tname\trelease_date\tgenre\tdescription\n",
      "1\tMovie Journey 1\t2013-02-16\tHorror\tA horror story about battle and love.\n",
      "2\tMovie Quest 2\t1984-03-19\tFantasy\tA fantasy story about dream and quest.\n",
      "3\tMovie Legend 3\t2021-01-25\tDrama\tA drama story about warrior and shadow.\n",
      "*/\u001b[0m\u001b[32;1m\u001b[1;3m\n",
      "Invoking: `sql_db_query_checker` with `{'query': \"SELECT name, release_date FROM movies WHERE release_date > '2020-01-01' ORDER BY release_date DESC\"}`\n",
      "\n",
      "\n",
      "\u001b[0m\u001b[36;1m\u001b[1;3m```sql\n",
      "SELECT name, release_date FROM movies WHERE release_date > '2020-01-01' ORDER BY release_date DESC\n",
      "```\u001b[0m\u001b[32;1m\u001b[1;3m\n",
      "Invoking: `sql_db_query` with `{'query': \"SELECT name, release_date FROM movies WHERE release_date > '2020-01-01' ORDER BY release_date DESC\"}`\n",
      "\n",
      "\n",
      "\u001b[0m\u001b[36;1m\u001b[1;3m[('Movie Legend 81', '2023-10-28'), ('Movie Shadow 56', '2023-10-21'), ('Movie Legend 52', '2023-02-25'), ('Movie Warrior 49', '2022-10-08'), ('Movie Warrior 26', '2022-04-23'), ('Movie Dream 71', '2022-02-21'), ('Movie Legend 74', '2021-06-01'), ('Movie Legend 50', '2021-04-21'), ('Movie Secret 45', '2021-04-05'), ('Movie Love 31', '2021-02-11'), ('Movie Legend 3', '2021-01-25'), ('Movie Journey 12', '2020-11-18'), ('Movie Shadow 17', '2020-11-16'), ('Movie Legend 68', '2020-06-13')]\u001b[0m\u001b[32;1m\u001b[1;3mHere are some movies released after 2020, sorted by their release date:\n",
      "\n",
      "1. Movie Legend 81 - Release Date: 2023-10-28\n",
      "2. Movie Shadow 56 - Release Date: 2023-10-21\n",
      "3. Movie Legend 52 - Release Date: 2023-02-25\n",
      "4. Movie Warrior 49 - Release Date: 2022-10-08\n",
      "5. Movie Warrior 26 - Release Date: 2022-04-23\n",
      "6. Movie Dream 71 - Release Date: 2022-02-21\n",
      "7. Movie Legend 74 - Release Date: 2021-06-01\n",
      "8. Movie Legend 50 - Release Date: 2021-04-21\n",
      "9. Movie Secret 45 - Release Date: 2021-04-05\n",
      "10. Movie Love 31 - Release Date: 2021-02-11\n",
      "\n",
      "Let me know if you need more information!\u001b[0m\n",
      "\n",
      "\u001b[1m> Finished chain.\u001b[0m\n"
     ]
    },
    {
     "data": {
      "text/plain": [
       "'Here are some movies released after 2020, sorted by their release date:\\n\\n1. Movie Legend 81 - Release Date: 2023-10-28\\n2. Movie Shadow 56 - Release Date: 2023-10-21\\n3. Movie Legend 52 - Release Date: 2023-02-25\\n4. Movie Warrior 49 - Release Date: 2022-10-08\\n5. Movie Warrior 26 - Release Date: 2022-04-23\\n6. Movie Dream 71 - Release Date: 2022-02-21\\n7. Movie Legend 74 - Release Date: 2021-06-01\\n8. Movie Legend 50 - Release Date: 2021-04-21\\n9. Movie Secret 45 - Release Date: 2021-04-05\\n10. Movie Love 31 - Release Date: 2021-02-11\\n\\nLet me know if you need more information!'"
      ]
     },
     "execution_count": 9,
     "metadata": {},
     "output_type": "execute_result"
    }
   ],
   "source": [
    "from langchain.agents import create_sql_agent\n",
    "from langchain.agents.agent_types import AgentType\n",
    "\n",
    "agent = create_sql_agent(\n",
    "    llm=llm,\n",
    "    toolkit=toolkit,\n",
    "    agent_type=AgentType.OPENAI_FUNCTIONS,  # instead of ZERO_SHOT_REACT_DESCRIPTION\n",
    "    verbose=True\n",
    ")\n",
    "agent.run(\"Show me all movies after 2020 sorted by rating\")\n"
   ]
  },
  {
   "cell_type": "code",
   "execution_count": null,
   "id": "465f8a5d",
   "metadata": {},
   "outputs": [],
   "source": []
  },
  {
   "cell_type": "code",
   "execution_count": null,
   "id": "ce34646c",
   "metadata": {},
   "outputs": [],
   "source": []
  },
  {
   "cell_type": "code",
   "execution_count": null,
   "id": "3bfbaf38",
   "metadata": {},
   "outputs": [],
   "source": []
  },
  {
   "cell_type": "code",
   "execution_count": null,
   "id": "f05a2a0a",
   "metadata": {},
   "outputs": [],
   "source": []
  },
  {
   "cell_type": "code",
   "execution_count": null,
   "id": "b1f59a9f",
   "metadata": {},
   "outputs": [],
   "source": []
  }
 ],
 "metadata": {
  "kernelspec": {
   "display_name": "venv",
   "language": "python",
   "name": "python3"
  },
  "language_info": {
   "codemirror_mode": {
    "name": "ipython",
    "version": 3
   },
   "file_extension": ".py",
   "mimetype": "text/x-python",
   "name": "python",
   "nbconvert_exporter": "python",
   "pygments_lexer": "ipython3",
   "version": "3.11.2"
  }
 },
 "nbformat": 4,
 "nbformat_minor": 5
}
