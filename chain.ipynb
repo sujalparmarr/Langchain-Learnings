{
 "cells": [
  {
   "cell_type": "code",
   "execution_count": 3,
   "id": "a0ceb8a0",
   "metadata": {},
   "outputs": [
    {
     "data": {
      "text/plain": [
       "True"
      ]
     },
     "execution_count": 3,
     "metadata": {},
     "output_type": "execute_result"
    }
   ],
   "source": [
    "from langchain_openai import ChatOpenAI\n",
    "from dotenv import load_dotenv\n",
    "from langchain_core.prompts import ChatPromptTemplate\n",
    "load_dotenv()"
   ]
  },
  {
   "cell_type": "code",
   "execution_count": 4,
   "id": "3f952ac1",
   "metadata": {},
   "outputs": [
    {
     "name": "stdout",
     "output_type": "stream",
     "text": [
      "With {summary} mapping:\n",
      " AI is reshaping industries by automating complex tasks, analyzing massive datasets, and personalizing user experiences—driving efficiency, cutting costs, and fueling innovation in healthcare and finance. To ensure responsible adoption, we must address ethical concerns, algorithmic bias, and potential job displacement. #AI #ArtificialIntelligence #TechTrends #Innovation #Healthcare #Finance #Ethics #Bias #FutureOfWork #ResponsibleAI #Automation \n",
      "\n"
     ]
    }
   ],
   "source": [
    "from langchain_core.output_parsers import StrOutputParser\n",
    "\n",
    "long_text = \"\"\"\n",
    "Artificial intelligence (AI) is transforming industries worldwide by automating\n",
    "complex tasks, analyzing vast datasets, and enabling personalized user experiences.\n",
    "From healthcare to finance, AI is improving efficiency, reducing costs, and\n",
    "driving innovation at an unprecedented scale. However, challenges such as\n",
    "ethical concerns, bias in algorithms, and job displacement need to be addressed\n",
    "to ensure responsible adoption.\n",
    "\"\"\"\n",
    "\n",
    "model = ChatOpenAI(model=\"gpt-5-nano\")\n",
    "parser = StrOutputParser()\n",
    "\n",
    "# Step 1: Summarize\n",
    "prompt1 = ChatPromptTemplate.from_messages([\n",
    "    (\"system\", \"Summarize this text in 3 sentences:\\n\\n{text}\")\n",
    "])\n",
    "\n",
    "# Step 2: Rewrite using the {summary} variable\n",
    "prompt2 = ChatPromptTemplate.from_messages([\n",
    "    (\"system\", \"Rewrite this summary for social media and add hashtags:\\n\\n{summary}\")\n",
    "])\n",
    "\n",
    "# Chain with mapping\n",
    "chain_with_summary = (\n",
    "    {\"summary\": prompt1 | model | parser} |\n",
    "    prompt2 | model | parser\n",
    ")\n",
    "\n",
    "result1 = chain_with_summary.invoke({\"text\": long_text})\n",
    "print(\"With {summary} mapping:\\n\", result1, \"\\n\")"
   ]
  },
  {
   "cell_type": "code",
   "execution_count": 5,
   "id": "02f4e4b1",
   "metadata": {},
   "outputs": [
    {
     "name": "stdout",
     "output_type": "stream",
     "text": [
      "Without {summary} mapping:\n",
      " Here are a few social-media-ready rewrites with hashtags. Pick the one that fits your platform.\n",
      "\n",
      "- Twitter/X (short, punchy)\n",
      "AI is reshaping industries by automating complex tasks, analyzing massive data, and personalizing experiences. In healthcare and finance, it boosts efficiency, cuts costs, and accelerates innovation at scale. Responsible AI means addressing ethics, algorithmic bias, and potential job displacement. #AI #TechForGood #EthicsInAI #HealthcareTech #FinTech\n",
      "\n",
      "- LinkedIn/Facebook (slightly longer)\n",
      "AI is transforming industries worldwide—from automating complex tasks to analyzing vast datasets and delivering personalized experiences. In healthcare and finance, it drives efficiency, reduces costs, and sparks innovation at an unprecedented scale. To realize the benefits responsibly, we must address ethics, algorithmic bias, and potential job displacement. #AI #Innovation #EthicsInAI #Healthcare #Finance #ResponsibleAI\n",
      "\n",
      "- Instagram caption (with a bit of flair)\n",
      "AI is reshaping how we work and live: automating tough tasks, making sense of big data, and personalizing experiences. In healthcare and finance, it fuels faster, cheaper, better decisions and groundbreaking innovation. But with power comes responsibility—let’s tackle ethics, algorithmic bias, and job displacement together. #AI #TechForGood #HealthcareTech #FinTech #ResponsibleAI #AlgorithmicBias #FutureOfWork\n"
     ]
    }
   ],
   "source": [
    "# Step 2: Rewrite using {text} (or any single variable name)\n",
    "prompt2_simple = ChatPromptTemplate.from_messages([\n",
    "    (\"system\", \"Rewrite this for social media and add hashtags:\\n\\n{text}\")\n",
    "])\n",
    "\n",
    "# Chain without mapping — pass raw string directly\n",
    "chain_without_summary = (\n",
    "    prompt1 | model | parser |\n",
    "    prompt2_simple | model | parser\n",
    ")\n",
    "\n",
    "result2 = chain_without_summary.invoke({\"text\": long_text})\n",
    "print(\"Without {summary} mapping:\\n\", result2)"
   ]
  }
 ],
 "metadata": {
  "kernelspec": {
   "display_name": "venv",
   "language": "python",
   "name": "python3"
  },
  "language_info": {
   "codemirror_mode": {
    "name": "ipython",
    "version": 3
   },
   "file_extension": ".py",
   "mimetype": "text/x-python",
   "name": "python",
   "nbconvert_exporter": "python",
   "pygments_lexer": "ipython3",
   "version": "3.11.2"
  }
 },
 "nbformat": 4,
 "nbformat_minor": 5
}
