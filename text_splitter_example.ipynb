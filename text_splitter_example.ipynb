{
 "cells": [
  {
   "cell_type": "markdown",
   "metadata": {},
   "source": [
    "# Text Splitter"
   ]
  },
  {
   "cell_type": "code",
   "execution_count": null,
   "metadata": {},
   "outputs": [],
   "source": [
    "# Install langchain if not installed\n",
    "!pip install langchain"
   ]
  },
  {
   "cell_type": "code",
   "execution_count": null,
   "metadata": {},
   "outputs": [],
   "source": [
    "from langchain.text_splitter import CharacterTextSplitter\n",
    "\n",
    "# Example long text\n",
    "text = \"\"\"\n",
    "LangChain makes it easy to build applications with LLMs. Sometimes texts are too long,\n",
    "so we need to split them into smaller parts. A text splitter helps us do that easily.\n",
    "\"\"\"\n",
    "\n",
    "# Create a text splitter (split by characters)\n",
    "splitter = CharacterTextSplitter(\n",
    "    separator=\" \",      # split by space\n",
    "    chunk_size=50,      # each chunk will have around 50 characters\n",
    "    chunk_overlap=10    # overlap 10 characters between chunks\n",
    ")\n",
    "\n",
    "# Split the text\n",
    "chunks = splitter.split_text(text)\n",
    "\n",
    "chunks"
   ]
  }
 ],
 "metadata": {
  "kernelspec": {
   "display_name": "Python 3 (ipykernel)",
   "language": "python",
   "name": "python3"
  },
  "language_info": {
   "codemirror_mode": {
    "name": "ipython",
    "version": 3
   },
   "file_extension": ".py",
   "mimetype": "text/x-python",
   "name": "python",
   "nbconvert_exporter": "python",
   "pygments_lexer": "ipython3",
   "version": "3.10.9"
  }
 },
 "nbformat": 4,
 "nbformat_minor": 2
}
