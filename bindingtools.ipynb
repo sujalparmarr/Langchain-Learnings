{
 "cells": [
  {
   "cell_type": "code",
   "execution_count": 2,
   "id": "02b22479",
   "metadata": {},
   "outputs": [],
   "source": [
    "from langchain_openai import ChatOpenAI\n",
    "from langchain.agents import create_sql_agent\n",
    "from langchain_community.utilities import SQLDatabase\n",
    "from langchain_community.agent_toolkits import SQLDatabaseToolkit\n",
    "from langchain.tools import tool\n",
    "\n",
    "# --- LLM ---\n",
    "llm = ChatOpenAI(model=\"gpt-4o-mini\")\n",
    "\n",
    "# --- Calculator tool ---\n",
    "@tool\n",
    "def calculator(expression: str) -> str:\n",
    "    \"\"\"Evaluate a math expression safely. Example: '2+2' or '4578*3927'.\"\"\"\n",
    "    try:\n",
    "        return str(eval(expression))\n",
    "    except Exception as e:\n",
    "        return f\"Error: {e}\"\n",
    "\n",
    "# --- Weather tool (dummy) ---\n",
    "def get_weather(city: str) -> str:\n",
    "    return f\"The weather in {city} is 28°C and sunny today.\"\n",
    "\n",
    "@tool\n",
    "def weather_tool(city: str) -> str:\n",
    "    \"\"\"Get today's weather for a given city.\"\"\"\n",
    "    return get_weather(city)\n",
    "\n",
    "# --- SQL Database tool (mini movie db) ---\n",
    "db = SQLDatabase.from_uri(\"sqlite:///movies.db\")   # make sure movies.db exists\n",
    "toolkit = SQLDatabaseToolkit(db=db, llm=llm)\n",
    "sql_tools = toolkit.get_tools()\n",
    "\n",
    "# Collect all tools\n",
    "all_tools = [calculator, weather_tool] + sql_tools\n",
    "\n",
    "# Bind tools to LLM\n",
    "llm_with_tools = llm.bind_tools(all_tools)\n"
   ]
  },
  {
   "cell_type": "code",
   "execution_count": 7,
   "id": "2fdcfd5b",
   "metadata": {},
   "outputs": [
    {
     "name": "stdout",
     "output_type": "stream",
     "text": [
      "content='' additional_kwargs={'tool_calls': [{'id': 'call_ogqCrLZG6enAAuE868TSe6sj', 'function': {'arguments': '{\"expression\":\"4578*3927\"}', 'name': 'calculator'}, 'type': 'function'}], 'refusal': None} response_metadata={'token_usage': {'completion_tokens': 18, 'prompt_tokens': 384, 'total_tokens': 402, 'completion_tokens_details': {'accepted_prediction_tokens': 0, 'audio_tokens': 0, 'reasoning_tokens': 0, 'rejected_prediction_tokens': 0}, 'prompt_tokens_details': {'audio_tokens': 0, 'cached_tokens': 0}}, 'model_name': 'gpt-4o-mini-2024-07-18', 'system_fingerprint': 'fp_8bda4d3a2c', 'id': 'chatcmpl-CDwvquVgdGp6U85syslq10PXcG138', 'service_tier': 'default', 'finish_reason': 'tool_calls', 'logprobs': None} id='run--91b4bae0-ff83-4e07-93e9-5892ff362497-0' tool_calls=[{'name': 'calculator', 'args': {'expression': '4578*3927'}, 'id': 'call_ogqCrLZG6enAAuE868TSe6sj', 'type': 'tool_call'}] usage_metadata={'input_tokens': 384, 'output_tokens': 18, 'total_tokens': 402, 'input_token_details': {'audio': 0, 'cache_read': 0}, 'output_token_details': {'audio': 0, 'reasoning': 0}}\n",
      "content='' additional_kwargs={'tool_calls': [{'id': 'call_Nmbmbe1TUM5PdND5V3pk9onI', 'function': {'arguments': '{\"city\":\"Delhi\"}', 'name': 'weather_tool'}, 'type': 'function'}], 'refusal': None} response_metadata={'token_usage': {'completion_tokens': 14, 'prompt_tokens': 381, 'total_tokens': 395, 'completion_tokens_details': {'accepted_prediction_tokens': 0, 'audio_tokens': 0, 'reasoning_tokens': 0, 'rejected_prediction_tokens': 0}, 'prompt_tokens_details': {'audio_tokens': 0, 'cached_tokens': 0}}, 'model_name': 'gpt-4o-mini-2024-07-18', 'system_fingerprint': 'fp_8bda4d3a2c', 'id': 'chatcmpl-CDwvrQmtunncf7Ewb2DnaRJ6Av81O', 'service_tier': 'default', 'finish_reason': 'tool_calls', 'logprobs': None} id='run--198c6c62-c941-45c0-b634-45c48cb268ac-0' tool_calls=[{'name': 'weather_tool', 'args': {'city': 'Delhi'}, 'id': 'call_Nmbmbe1TUM5PdND5V3pk9onI', 'type': 'tool_call'}] usage_metadata={'input_tokens': 381, 'output_tokens': 14, 'total_tokens': 395, 'input_token_details': {'audio': 0, 'cache_read': 0}, 'output_token_details': {'audio': 0, 'reasoning': 0}}\n",
      "content='' additional_kwargs={'tool_calls': [{'id': 'call_1w9yI9noXh0GLvjDxosghfM9', 'function': {'arguments': '{}', 'name': 'sql_db_list_tables'}, 'type': 'function'}], 'refusal': None} response_metadata={'token_usage': {'completion_tokens': 12, 'prompt_tokens': 387, 'total_tokens': 399, 'completion_tokens_details': {'accepted_prediction_tokens': 0, 'audio_tokens': 0, 'reasoning_tokens': 0, 'rejected_prediction_tokens': 0}, 'prompt_tokens_details': {'audio_tokens': 0, 'cached_tokens': 0}}, 'model_name': 'gpt-4o-mini-2024-07-18', 'system_fingerprint': 'fp_8bda4d3a2c', 'id': 'chatcmpl-CDwvthVPMnT12tQ7gnsz2awTmVBdX', 'service_tier': 'default', 'finish_reason': 'tool_calls', 'logprobs': None} id='run--92ad8645-3a21-474b-9bb5-cfc8e5278f65-0' tool_calls=[{'name': 'sql_db_list_tables', 'args': {}, 'id': 'call_1w9yI9noXh0GLvjDxosghfM9', 'type': 'tool_call'}] usage_metadata={'input_tokens': 387, 'output_tokens': 12, 'total_tokens': 399, 'input_token_details': {'audio': 0, 'cache_read': 0}, 'output_token_details': {'audio': 0, 'reasoning': 0}}\n"
     ]
    }
   ],
   "source": [
    "print(llm_with_tools.invoke(\"What is 4578 * 3927?\"))\n",
    "print(llm_with_tools.invoke(\"What's the weather in Delhi today?\"))\n",
    "print(llm_with_tools.invoke(\"Show me the top 5 movies released after 2020.\"))\n"
   ]
  },
  {
   "cell_type": "code",
   "execution_count": null,
   "id": "e203e979",
   "metadata": {},
   "outputs": [
    {
     "name": "stdout",
     "output_type": "stream",
     "text": [
      "content='' additional_kwargs={'tool_calls': [{'id': 'call_cr7IZlOWPCdc5kQN6Doo9wQr', 'function': {'arguments': '{\"expression\":\"4578*3927\"}', 'name': 'calculator'}, 'type': 'function'}], 'refusal': None} response_metadata={'token_usage': {'completion_tokens': 18, 'prompt_tokens': 384, 'total_tokens': 402, 'completion_tokens_details': {'accepted_prediction_tokens': 0, 'audio_tokens': 0, 'reasoning_tokens': 0, 'rejected_prediction_tokens': 0}, 'prompt_tokens_details': {'audio_tokens': 0, 'cached_tokens': 0}}, 'model_name': 'gpt-4o-mini-2024-07-18', 'system_fingerprint': 'fp_8bda4d3a2c', 'id': 'chatcmpl-CDwx9iRvxElbxtMac6IRTYY6Z9TgQ', 'service_tier': 'default', 'finish_reason': 'tool_calls', 'logprobs': None} id='run--7fcf7638-e176-4c44-8270-14a10a4991aa-0' tool_calls=[{'name': 'calculator', 'args': {'expression': '4578*3927'}, 'id': 'call_cr7IZlOWPCdc5kQN6Doo9wQr', 'type': 'tool_call'}] usage_metadata={'input_tokens': 384, 'output_tokens': 18, 'total_tokens': 402, 'input_token_details': {'audio': 0, 'cache_read': 0}, 'output_token_details': {'audio': 0, 'reasoning': 0}}\n"
     ]
    }
   ],
   "source": [
    "response = llm_with_tools.invoke(\"What is 4578 * 3927?\")\n",
    "print(response)   \n"
   ]
  }
 ],
 "metadata": {
  "kernelspec": {
   "display_name": "venv",
   "language": "python",
   "name": "python3"
  },
  "language_info": {
   "codemirror_mode": {
    "name": "ipython",
    "version": 3
   },
   "file_extension": ".py",
   "mimetype": "text/x-python",
   "name": "python",
   "nbconvert_exporter": "python",
   "pygments_lexer": "ipython3",
   "version": "3.11.2"
  }
 },
 "nbformat": 4,
 "nbformat_minor": 5
}
