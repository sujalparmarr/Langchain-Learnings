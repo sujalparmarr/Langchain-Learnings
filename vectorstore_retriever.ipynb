{
 "cells": [
  {
   "cell_type": "markdown",
   "id": "82ecfbf3",
   "metadata": {},
   "source": [
    "# LangChain Retriever "
   ]
  },
  {
   "cell_type": "code",
   "execution_count": null,
   "id": "f77576d1",
   "metadata": {},
   "outputs": [],
   "source": [
    "\n",
    "!pip install langchain chromadb openai tiktoken --quiet\n"
   ]
  },
  {
   "cell_type": "code",
   "execution_count": null,
   "id": "03e05156",
   "metadata": {},
   "outputs": [],
   "source": [
    "\n",
    "from langchain_openai import OpenAIEmbeddings\n",
    "from langchain_chroma import Chroma\n",
    "from langchain_core.documents import Document\n",
    "\n",
    "# Create documents\n",
    "docs = [\n",
    "    Document(page_content=\"Python is a programming language for AI and ML.\"),\n",
    "    Document(page_content=\"LangChain helps build LLM-powered apps easily.\"),\n",
    "    Document(page_content=\"Chroma is a vector database for storing embeddings.\"),\n",
    "    Document(page_content=\"OpenAI provides embeddings and LLMs.\"),\n",
    "    Document(page_content=\"Retrievers help fetch relevant documents from a database.\")\n",
    "]\n",
    "\n",
    "# Initialize embeddings and Chroma\n",
    "embeddings = OpenAIEmbeddings()\n",
    "vectorstore = Chroma.from_documents(docs, embeddings)\n",
    "\n",
    "# Create retriever\n",
    "retriever = vectorstore.as_retriever(search_kwargs={\"k\": 2})\n",
    "\n",
    "# Query retriever\n",
    "query = \"Which tool stores embeddings?\"\n",
    "retrieved_docs = retriever.get_relevant_documents(query)\n",
    "retrieved_docs\n"
   ]
  }
 ],
 "metadata": {
  "kernelspec": {
   "display_name": "Python 3 (ipykernel)",
   "language": "python",
   "name": "python3"
  },
  "language_info": {
   "codemirror_mode": {
    "name": "ipython",
    "version": 3
   },
   "file_extension": ".py",
   "mimetype": "text/x-python",
   "name": "python",
   "nbconvert_exporter": "python",
   "pygments_lexer": "ipython3",
   "version": "3.10.9"
  }
 },
 "nbformat": 4,
 "nbformat_minor": 5
}
