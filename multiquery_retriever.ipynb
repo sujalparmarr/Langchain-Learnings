{
 "cells": [
  {
   "cell_type": "markdown",
   "id": "ac77428b",
   "metadata": {},
   "source": [
    "# LangChain MultiQuery Retriever\n"
   ]
  },
  {
   "cell_type": "code",
   "execution_count": null,
   "id": "3579876c",
   "metadata": {},
   "outputs": [],
   "source": [
    "\n",
    "!pip install langchain openai chromadb --quiet\n"
   ]
  },
  {
   "cell_type": "code",
   "execution_count": null,
   "id": "5d896e7e",
   "metadata": {},
   "outputs": [],
   "source": [
    "\n",
    "from langchain_openai import OpenAIEmbeddings, ChatOpenAI\n",
    "from langchain_chroma import Chroma\n",
    "from langchain.retrievers import MultiQueryRetriever\n",
    "from langchain_core.documents import Document\n",
    "\n",
    "# Create documents\n",
    "docs = [\n",
    "    Document(page_content=\"The capital of France is Paris.\"),\n",
    "    Document(page_content=\"Berlin is the capital of Germany.\"),\n",
    "    Document(page_content=\"Tokyo is the capital of Japan.\"),\n",
    "    Document(page_content=\"Canberra is the capital of Australia.\"),\n",
    "    Document(page_content=\"Washington D.C. is the capital of USA.\")\n",
    "]\n",
    "\n",
    "# Initialize embeddings and Chroma\n",
    "embeddings = OpenAIEmbeddings()\n",
    "vectorstore = Chroma.from_documents(docs, embeddings)\n",
    "\n",
    "# LLM for query reformulation\n",
    "llm = ChatOpenAI(model=\"gpt-3.5-turbo\")\n",
    "\n",
    "# MultiQueryRetriever\n",
    "retriever = MultiQueryRetriever.from_llm(retriever=vectorstore.as_retriever(), llm=llm)\n",
    "\n",
    "# Query retriever\n",
    "query = \"Which city is the capital of Germany?\"\n",
    "retrieved_docs = retriever.get_relevant_documents(query)\n",
    "retrieved_docs\n"
   ]
  }
 ],
 "metadata": {
  "kernelspec": {
   "display_name": "Python 3 (ipykernel)",
   "language": "python",
   "name": "python3"
  },
  "language_info": {
   "codemirror_mode": {
    "name": "ipython",
    "version": 3
   },
   "file_extension": ".py",
   "mimetype": "text/x-python",
   "name": "python",
   "nbconvert_exporter": "python",
   "pygments_lexer": "ipython3",
   "version": "3.10.9"
  }
 },
 "nbformat": 4,
 "nbformat_minor": 5
}
