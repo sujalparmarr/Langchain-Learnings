{
 "cells": [
  {
   "cell_type": "code",
   "execution_count": 4,
   "id": "5523559b",
   "metadata": {},
   "outputs": [
    {
     "data": {
      "text/plain": [
       "True"
      ]
     },
     "execution_count": 4,
     "metadata": {},
     "output_type": "execute_result"
    }
   ],
   "source": [
    "from langchain.schema.runnable import RunnableParallel,RunnableSequence,RunnableLambda,RunnablePassthrough\n",
    "from langchain_openai import ChatOpenAI\n",
    "from dotenv import load_dotenv\n",
    "from langchain_core.prompts import ChatPromptTemplate\n",
    "from langchain_core.prompts import PromptTemplate\n",
    "from langchain_core.output_parsers import StrOutputParser\n",
    "\n",
    "load_dotenv()"
   ]
  },
  {
   "cell_type": "code",
   "execution_count": 8,
   "id": "7cd9a605",
   "metadata": {},
   "outputs": [
    {
     "data": {
      "text/plain": [
       "{'Post': 'Here’s a concise LinkedIn post you can use:\\n\\nStock markets remind us that volatility is part of the game, not a glitch. For professionals and investors alike, the differentiator is sticking to a clear thesis, focusing on fundamentals, and controlling costs and risk. Revisit your long-term plan, diversify, and make decisions based on data—not headlines. When we stay curious, ask good questions, and share insights, we turn uncertainty into opportunity. Here’s to disciplined, resilient investing in a rapidly changing market. #StockMarket #Investing #Finance #Markets #LongTerm #Discipline #Resilience\\n\\nIf you’d like a shorter version or a different tone (more formal, more inspirational, etc.), I can tailor it.',\n",
       " 'Count': 106}"
      ]
     },
     "execution_count": 8,
     "metadata": {},
     "output_type": "execute_result"
    }
   ],
   "source": [
    "prompt1=PromptTemplate(\n",
    "    template=\"Write a Short Linkedin Post on {topic}\",\n",
    "    input_variables=[\"topic\"]\n",
    ")\n",
    "model = ChatOpenAI(model=\"gpt-5-nano\")\n",
    "parser = StrOutputParser()\n",
    "\n",
    "post=RunnableSequence(prompt1,model,parser)\n",
    "\n",
    "parallel_chain=RunnableParallel({\n",
    "    \"Post\":RunnablePassthrough(),\n",
    "    \"Count\":RunnableLambda(lambda x:len(x.split()))\n",
    "    \n",
    "})\n",
    "\n",
    "final_chain=RunnableSequence(post,parallel_chain)\n",
    "final_chain.invoke({\"topic\":\"Stock Maket\"})"
   ]
  },
  {
   "cell_type": "code",
   "execution_count": null,
   "id": "720c8cb3",
   "metadata": {},
   "outputs": [],
   "source": []
  },
  {
   "cell_type": "code",
   "execution_count": null,
   "id": "47c8f8bf",
   "metadata": {},
   "outputs": [],
   "source": []
  },
  {
   "cell_type": "code",
   "execution_count": null,
   "id": "e98301d7",
   "metadata": {},
   "outputs": [],
   "source": []
  }
 ],
 "metadata": {
  "kernelspec": {
   "display_name": "venv",
   "language": "python",
   "name": "python3"
  },
  "language_info": {
   "codemirror_mode": {
    "name": "ipython",
    "version": 3
   },
   "file_extension": ".py",
   "mimetype": "text/x-python",
   "name": "python",
   "nbconvert_exporter": "python",
   "pygments_lexer": "ipython3",
   "version": "3.11.2"
  }
 },
 "nbformat": 4,
 "nbformat_minor": 5
}
