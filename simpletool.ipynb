{
 "cells": [
  {
   "cell_type": "code",
   "execution_count": 1,
   "id": "a934793d",
   "metadata": {},
   "outputs": [
    {
     "name": "stdout",
     "output_type": "stream",
     "text": [
      "Result of tool: 12\n",
      "Greeting: Hello, Sujal! Welcome to LangChain Tools.\n"
     ]
    }
   ],
   "source": [
    "from langchain.tools import tool\n",
    "\n",
    "@tool\n",
    "def add_numbers(a: int, b: int) -> int:\n",
    "    \"\"\"Adds two numbers and returns the result.\"\"\"\n",
    "    return a + b\n",
    "\n",
    "# Using the tool directly\n",
    "print(\"Result of tool:\", add_numbers.run({\"a\": 5, \"b\": 7}))\n",
    "\n",
    "# Another simple tool\n",
    "@tool\n",
    "def greet(name: str) -> str:\n",
    "    \"\"\"Greets the user by name.\"\"\"\n",
    "    return f\"Hello, {name}! Welcome to LangChain Tools.\"\n",
    "\n",
    "print(\"Greeting:\", greet.run({\"name\": \"Sujal\"}))"
   ]
  },
  {
   "cell_type": "code",
   "execution_count": null,
   "id": "4005ed54",
   "metadata": {},
   "outputs": [],
   "source": []
  },
  {
   "cell_type": "code",
   "execution_count": null,
   "id": "8e0df9d2",
   "metadata": {},
   "outputs": [],
   "source": []
  }
 ],
 "metadata": {
  "kernelspec": {
   "display_name": "venv",
   "language": "python",
   "name": "python3"
  },
  "language_info": {
   "codemirror_mode": {
    "name": "ipython",
    "version": 3
   },
   "file_extension": ".py",
   "mimetype": "text/x-python",
   "name": "python",
   "nbconvert_exporter": "python",
   "pygments_lexer": "ipython3",
   "version": "3.11.2"
  }
 },
 "nbformat": 4,
 "nbformat_minor": 5
}
