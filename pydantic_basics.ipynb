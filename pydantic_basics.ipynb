{
 "cells": [
  {
   "cell_type": "markdown",
   "id": "d499842b",
   "metadata": {},
   "source": [
    "# Pydantic "
   ]
  },
  {
   "cell_type": "code",
   "execution_count": 1,
   "id": "f850b596",
   "metadata": {},
   "outputs": [
    {
     "name": "stdout",
     "output_type": "stream",
     "text": [
      "Defaulting to user installation because normal site-packages is not writeable\n",
      "Requirement already satisfied: pydantic in c:\\users\\sujal\\appdata\\roaming\\python\\python310\\site-packages (2.11.7)\n",
      "Requirement already satisfied: pydantic-core==2.33.2 in c:\\users\\sujal\\appdata\\roaming\\python\\python310\\site-packages (from pydantic) (2.33.2)\n",
      "Requirement already satisfied: typing-inspection>=0.4.0 in c:\\users\\sujal\\appdata\\roaming\\python\\python310\\site-packages (from pydantic) (0.4.1)\n",
      "Requirement already satisfied: typing-extensions>=4.12.2 in c:\\users\\sujal\\appdata\\roaming\\python\\python310\\site-packages (from pydantic) (4.15.0)\n",
      "Requirement already satisfied: annotated-types>=0.6.0 in c:\\users\\sujal\\appdata\\roaming\\python\\python310\\site-packages (from pydantic) (0.7.0)\n"
     ]
    }
   ],
   "source": [
    "!pip install pydantic"
   ]
  },
  {
   "cell_type": "code",
   "execution_count": 2,
   "id": "34d4ab72",
   "metadata": {},
   "outputs": [
    {
     "name": "stdout",
     "output_type": "stream",
     "text": [
      "name='Alice' age=25\n"
     ]
    }
   ],
   "source": [
    "from pydantic import BaseModel\n",
    "\n",
    "class User(BaseModel):\n",
    "    name: str\n",
    "    age: int\n",
    "\n",
    "# Create an instance\n",
    "user = User(name='Alice', age=25)\n",
    "print(user)\n"
   ]
  },
  {
   "cell_type": "code",
   "execution_count": 3,
   "id": "fafa1624",
   "metadata": {},
   "outputs": [
    {
     "name": "stdout",
     "output_type": "stream",
     "text": [
      "Validation Error: 1 validation error for User\n",
      "age\n",
      "  Input should be a valid integer, unable to parse string as an integer [type=int_parsing, input_value='twenty', input_type=str]\n",
      "    For further information visit https://errors.pydantic.dev/2.11/v/int_parsing\n"
     ]
    }
   ],
   "source": [
    "try:\n",
    "    # Passing a string instead of int for age\n",
    "    invalid_user = User(name='Bob', age='twenty')\n",
    "except Exception as e:\n",
    "    print('Validation Error:', e)\n"
   ]
  },
  {
   "cell_type": "code",
   "execution_count": 4,
   "id": "b3954cd8",
   "metadata": {},
   "outputs": [
    {
     "name": "stdout",
     "output_type": "stream",
     "text": [
      "name='Book' price=0.0 description=None\n"
     ]
    }
   ],
   "source": [
    "from typing import Optional\n",
    "\n",
    "class Product(BaseModel):\n",
    "    name: str\n",
    "    price: float = 0.0\n",
    "    description: Optional[str] = None\n",
    "\n",
    "product = Product(name='Book')\n",
    "print(product)\n"
   ]
  },
  {
   "cell_type": "code",
   "execution_count": 7,
   "id": "cffc3c60",
   "metadata": {},
   "outputs": [
    {
     "name": "stdout",
     "output_type": "stream",
     "text": [
      "name='Sujal' address=Address(city='MP', zip_code='12345')\n"
     ]
    }
   ],
   "source": [
    "class Address(BaseModel):\n",
    "    city: str\n",
    "    zip_code: str\n",
    "\n",
    "class Person(BaseModel):\n",
    "    name: str\n",
    "    address: Address\n",
    "\n",
    "address = Address(city='MP', zip_code='12345')\n",
    "person = Person(name='Sujal', address=address)\n",
    "print(person)\n"
   ]
  },
  {
   "cell_type": "code",
   "execution_count": 8,
   "id": "f885597a",
   "metadata": {},
   "outputs": [
    {
     "name": "stdout",
     "output_type": "stream",
     "text": [
      "{\"name\":\"Sujal\",\"address\":{\"city\":\"MP\",\"zip_code\":\"12345\"}}\n"
     ]
    },
    {
     "name": "stderr",
     "output_type": "stream",
     "text": [
      "C:\\Users\\sujal\\AppData\\Local\\Temp\\ipykernel_7924\\3882405878.py:1: PydanticDeprecatedSince20: The `json` method is deprecated; use `model_dump_json` instead. Deprecated in Pydantic V2.0 to be removed in V3.0. See Pydantic V2 Migration Guide at https://errors.pydantic.dev/2.11/migration/\n",
      "  print(person.json())\n"
     ]
    }
   ],
   "source": [
    "print(person.json())"
   ]
  },
  {
   "cell_type": "code",
   "execution_count": null,
   "id": "3a15f199",
   "metadata": {},
   "outputs": [],
   "source": []
  }
 ],
 "metadata": {
  "kernelspec": {
   "display_name": "Python 3 (ipykernel)",
   "language": "python",
   "name": "python3"
  },
  "language_info": {
   "codemirror_mode": {
    "name": "ipython",
    "version": 3
   },
   "file_extension": ".py",
   "mimetype": "text/x-python",
   "name": "python",
   "nbconvert_exporter": "python",
   "pygments_lexer": "ipython3",
   "version": "3.10.9"
  }
 },
 "nbformat": 4,
 "nbformat_minor": 5
}
