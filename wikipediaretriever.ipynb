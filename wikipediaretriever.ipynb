{
 "cells": [
  {
   "cell_type": "code",
   "execution_count": 1,
   "id": "dfe0e78d",
   "metadata": {},
   "outputs": [
    {
     "data": {
      "text/plain": [
       "True"
      ]
     },
     "execution_count": 1,
     "metadata": {},
     "output_type": "execute_result"
    }
   ],
   "source": [
    "from dotenv import load_dotenv\n",
    "load_dotenv()"
   ]
  },
  {
   "cell_type": "code",
   "execution_count": 3,
   "id": "584cf4ac",
   "metadata": {},
   "outputs": [],
   "source": [
    "from langchain_community.retrievers import WikipediaRetriever\n",
    "retriever = WikipediaRetriever(top_k_results=2, lang=\"en\")"
   ]
  },
  {
   "cell_type": "code",
   "execution_count": 11,
   "id": "58c3d113",
   "metadata": {},
   "outputs": [],
   "source": [
    "query = \"What is technical analysis in stock market\"\n",
    "\n",
    "# Get relevant Wikipedia documents\n",
    "docs = retriever.invoke(query)"
   ]
  },
  {
   "cell_type": "code",
   "execution_count": 13,
   "id": "36766a7b",
   "metadata": {},
   "outputs": [
    {
     "name": "stdout",
     "output_type": "stream",
     "text": [
      "In finance, technical analysis is an analysis methodology for analysing and forecasting the direction of prices through the study of past market data, primarily price and volume. As a type of active management, it stands in contradiction to much of modern portfolio theory. The efficacy of technical analysis is disputed by the efficient-market hypothesis, which states that stock market prices are essentially unpredictable, and research on whether technical analysis offers any benefit has produced mixed results. It is distinguished from fundamental analysis, which considers a company's financial statements, health, and the overall state of the market and economy.\n",
      "\n",
      "\n",
      "== History ==\n",
      "The principles of technical analysis are derived from hundreds of years of financial market data. Some aspects of technical analysis began to appear in Amsterdam-based merchant Joseph de la Vega's accounts of the Dutch financial markets in the 17th century. In Asia, technical analysis is said to be a method developed by Homma Munehisa during the early 18th century which evolved into the use of candlestick techniques, and is today a technical analysis charting tool.\n",
      "Journalist Charles Dow (1851–1902) compiled and closely analyzed American stock market data, and published some of his conclusions in editorials for The Wall Street Journal. He believed patterns and business cycles could possibly be found in this data, a concept later known as \"Dow theory\". However, Dow himself never advocated using his ideas as a stock trading strategy.\n",
      "In the 1920s and 1930s, Richard W. Schabacker published several books which continued the work of Charles Dow and William Peter Hamilton in their books Stock Market Theory and Practice and Technical Market Analysis. In 1948, Robert D. Edwards and John Magee published Technical Analysis of Stock Trends which is widely considered to be one of the seminal works of the discipline.  It is exclusively concerned with trend analysis and chart patterns and remains in use to the present. Early technical analysis was almost exclusively the analysis of charts because the processing power of computers was not available for the modern degree of statistical analysis. Charles Dow reportedly originated a form of point and figure chart analysis.  With the emergence of behavioral finance as a separate discipline in economics, Paul V. Azzopardi combined technical analysis with behavioral finance and coined the term \"Behavioral Technical Analysis\".\n",
      "Other pioneers of analysis techniques include Ralph Nelson Elliott, William Delbert Gann, and Richard Wyckoff who developed their respective techniques in the early 20th century.\n",
      "\n",
      "\n",
      "== General description ==\n",
      "Fundamental analysts examine earnings, dividends, assets, quality, ratios, new products, research and the like. Technicians employ many methods, tools and techniques as well, one of which is the use of charts.  Using charts, technical analysts seek to identify price patterns and market trends in financial markets and attempt to exploit those patterns.\n",
      "Technicians using charts search for archetypal price chart patterns, such as the well-known head and shoulders or double top/bottom reversal patterns, study technical indicators, moving averages and look for forms such as lines of support, resistance, channels and more obscure formations such as flags, pennants, balance days and cup and handle patterns.\n",
      "Technical analysts also widely use market indicators of many sorts, some of which are mathematical transformations of price, often including up and down volume, advance/decline data and other inputs. These indicators are used to help assess whether an asset is trending, and if it is, the probability of its direction and of continuation. Technicians also look for relationships between price/volume indices and market indicators.  Examples include the moving average, relative strength index and MACD. Other avenues of study include correlations between changes in Options (implied volatility) and put/call rat\n",
      "--------------------------------------------------\n",
      "Fundamental analysis, in accounting and finance, is the analysis of a business's financial statements (usually to analyze the business's assets, liabilities, and earnings); health; competitors and markets. It also considers the overall state of the economy and factors including interest rates, production, earnings, employment, GDP, housing, manufacturing and management. There are two basic approaches that can be used: bottom up analysis and top down analysis. These terms are used to distinguish such analysis from other types of investment analysis, such as technical analysis.\n",
      "Fundamental analysis is performed on historical and present data, but with the goal of making financial forecasts. There are several possible objectives: \n",
      "\n",
      "to conduct a company stock valuation and predict its probable price evolution;\n",
      "to make a projection on its business performance;\n",
      "to evaluate its management and make internal business decisions and/or to calculate its credit risk;\n",
      "to find out the intrinsic value of the share.\n",
      "\n",
      "\n",
      "== The two analytical models ==\n",
      "There are two basic methodologies investors rely upon when the objective of the analysis is to determine what stock to buy and at what price:\n",
      "\n",
      "Fundamental analysis. Analysts maintain that markets may incorrectly price a security in the short run but the \"correct\" price will eventually be reached. Profits can be made by purchasing or selling the wrongly priced security and then waiting for the market to recognize its \"mistake\" and reprice the security.\n",
      "Technical analysis. Analysts look at trends and price levels and believe that trend changes confirm sentiment changes. Recognizable price chart patterns may be found due to investors' emotional responses to price movements. Technical analysts mainly evaluate historical trends and ranges to predict future price movement.\n",
      "Investors can use one or both of these complementary methods for stock picking. For example, many fundamental investors use technical indicators for deciding entry and exit points. Similarly, a large proportion of technical investors use fundamental indicators to limit their pool of possible stocks to \"good\" companies.\n",
      "The choice of stock analysis is determined by the investor's belief in the different paradigms for \"how the stock market works\". For explanations of these paradigms, see the discussions at efficient-market hypothesis, random walk hypothesis, capital asset pricing model, Fed model, market-based valuation, and behavioral finance.\n",
      "Fundamental analysis includes:\n",
      "\n",
      "Economic analysis\n",
      "Industry analysis\n",
      "Company analysis\n",
      "The intrinsic value of the shares is determined based upon these three analyses. It is this value that is considered the true value of the share. If the intrinsic value is higher than the market price,  buying the share is recommended. If it is equal to market price, it is recommended to hold the share; and if it is less than the market price, then one should sell the shares.\n",
      "\n",
      "\n",
      "== Use by different portfolio styles ==\n",
      "Investors may also use fundamental analysis within different portfolio management styles.\n",
      "\n",
      "Buy and hold investors believe that latching on to good businesses allows the investor's asset to grow with the business. Fundamental analysis lets them find \"good\" companies, so they lower their risk and the probability of wipe-out.\n",
      "Value investors restrict their attention to under-valued companies, believing that \"it's hard to fall out of a ditch\".  The values they follow come from fundamental analysis.\n",
      "Managers may use fundamental analysis to correctly value \"good\" and \"bad\" companies.\n",
      "Managers may also consider the economic cycle in determining whether conditions are \"right\" to buy fundamentally suitable companies.\n",
      "Contrarian investors hold that \"in the short run, the market is a voting machine, not a weighing machine\". Fundamental analysis allows an investor to make his or her own decision on value, while ignoring the opinions of the market.\n",
      "Managers may use fundamental analysis to determine future growth r\n",
      "--------------------------------------------------\n"
     ]
    }
   ],
   "source": [
    "for doc in docs:\n",
    "    print(doc.page_content)\n",
    "    print(\"-\" * 50)"
   ]
  },
  {
   "cell_type": "code",
   "execution_count": null,
   "id": "e236ef17",
   "metadata": {},
   "outputs": [],
   "source": []
  },
  {
   "cell_type": "code",
   "execution_count": null,
   "id": "38dc89eb",
   "metadata": {},
   "outputs": [],
   "source": []
  },
  {
   "cell_type": "code",
   "execution_count": null,
   "id": "69e330f2",
   "metadata": {},
   "outputs": [],
   "source": []
  },
  {
   "cell_type": "code",
   "execution_count": null,
   "id": "20802088",
   "metadata": {},
   "outputs": [],
   "source": []
  },
  {
   "cell_type": "code",
   "execution_count": null,
   "id": "96dbc0ac",
   "metadata": {},
   "outputs": [],
   "source": []
  },
  {
   "cell_type": "code",
   "execution_count": null,
   "id": "22a2f9ac",
   "metadata": {},
   "outputs": [],
   "source": []
  }
 ],
 "metadata": {
  "kernelspec": {
   "display_name": "venv",
   "language": "python",
   "name": "python3"
  },
  "language_info": {
   "codemirror_mode": {
    "name": "ipython",
    "version": 3
   },
   "file_extension": ".py",
   "mimetype": "text/x-python",
   "name": "python",
   "nbconvert_exporter": "python",
   "pygments_lexer": "ipython3",
   "version": "3.11.2"
  }
 },
 "nbformat": 4,
 "nbformat_minor": 5
}
