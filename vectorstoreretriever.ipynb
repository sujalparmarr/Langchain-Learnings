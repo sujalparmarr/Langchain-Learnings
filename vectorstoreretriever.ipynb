{
 "cells": [
  {
   "cell_type": "code",
   "execution_count": 1,
   "id": "2b88d0e0",
   "metadata": {},
   "outputs": [
    {
     "data": {
      "text/plain": [
       "True"
      ]
     },
     "execution_count": 1,
     "metadata": {},
     "output_type": "execute_result"
    }
   ],
   "source": [
    "from dotenv import load_dotenv\n",
    "load_dotenv()"
   ]
  },
  {
   "cell_type": "code",
   "execution_count": 2,
   "id": "9659e5fc",
   "metadata": {},
   "outputs": [],
   "source": [
    "from langchain_community.vectorstores import Chroma\n",
    "from langchain_openai import OpenAIEmbeddings\n",
    "from langchain_core.documents import Document"
   ]
  },
  {
   "cell_type": "code",
   "execution_count": 4,
   "id": "85eed857",
   "metadata": {},
   "outputs": [],
   "source": [
    "from langchain.schema import Document  \n",
    "\n",
    "documents = [\n",
    "    Document(page_content=\"The capital of France is Paris.\"),\n",
    "    Document(page_content=\"Paris is known as the city of love and has the Eiffel Tower.\"),\n",
    "    \n",
    "    Document(page_content=\"The Great Wall of China is one of the Seven Wonders of the World.\"),\n",
    "    Document(page_content=\"The Great Wall of China stretches over 13,000 miles.\"),\n",
    "\n",
    "    Document(page_content=\"Python is a popular programming language for data science.\"),\n",
    "    Document(page_content=\"Python has powerful libraries like pandas and NumPy for data analysis.\"),\n",
    "\n",
    "    Document(page_content=\"Cristiano Ronaldo and Lionel Messi are famous football players.\"),\n",
    "    Document(page_content=\"Lionel Messi plays for Inter Miami after leaving PSG.\"),\n",
    "]\n"
   ]
  },
  {
   "cell_type": "code",
   "execution_count": 5,
   "id": "0d4169d6",
   "metadata": {},
   "outputs": [],
   "source": [
    "embedding_model = OpenAIEmbeddings()\n",
    "vectorstore = Chroma.from_documents(\n",
    "    documents=documents,\n",
    "    embedding=embedding_model,\n",
    "    collection_name=\"my_collection\"\n",
    ")"
   ]
  },
  {
   "cell_type": "code",
   "execution_count": 12,
   "id": "a267f744",
   "metadata": {},
   "outputs": [],
   "source": [
    "retriever = vectorstore.as_retriever(search_kwargs={\"k\": 2})\n",
    "query = \"Tell me something about Paris.\"\n",
    "results = retriever.invoke(query)"
   ]
  },
  {
   "cell_type": "code",
   "execution_count": 13,
   "id": "4f2a7020",
   "metadata": {},
   "outputs": [
    {
     "name": "stdout",
     "output_type": "stream",
     "text": [
      "\n",
      "--- Result 1 ---\n",
      "The capital of France is Paris.\n",
      "\n",
      "--- Result 2 ---\n",
      "Paris is known as the city of love and has the Eiffel Tower.\n"
     ]
    }
   ],
   "source": [
    "for i, doc in enumerate(results):\n",
    "    print(f\"\\n--- Result {i+1} ---\")\n",
    "    print(doc.page_content)"
   ]
  },
  {
   "cell_type": "code",
   "execution_count": null,
   "id": "92d846c0",
   "metadata": {},
   "outputs": [],
   "source": []
  }
 ],
 "metadata": {
  "kernelspec": {
   "display_name": "venv",
   "language": "python",
   "name": "python3"
  },
  "language_info": {
   "codemirror_mode": {
    "name": "ipython",
    "version": 3
   },
   "file_extension": ".py",
   "mimetype": "text/x-python",
   "name": "python",
   "nbconvert_exporter": "python",
   "pygments_lexer": "ipython3",
   "version": "3.11.2"
  }
 },
 "nbformat": 4,
 "nbformat_minor": 5
}
