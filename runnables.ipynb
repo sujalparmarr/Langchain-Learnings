{
 "cells": [
  {
   "cell_type": "code",
   "execution_count": null,
   "id": "d4cd48f6",
   "metadata": {},
   "outputs": [
    {
     "data": {
      "text/plain": [
       "True"
      ]
     },
     "execution_count": 3,
     "metadata": {},
     "output_type": "execute_result"
    }
   ],
   "source": [
    "from langchain.schema.runnable import RunnableParallel,RunnableSequence\n",
    "\n",
    "from langchain_openai import ChatOpenAI\n",
    "from dotenv import load_dotenv\n",
    "from langchain_core.prompts import ChatPromptTemplate\n",
    "from langchain_core.prompts import PromptTemplate\n",
    "\n",
    "from langchain_core.output_parsers import StrOutputParser\n",
    "\n",
    "load_dotenv()"
   ]
  },
  {
   "cell_type": "code",
   "execution_count": 6,
   "id": "1983ac3d",
   "metadata": {},
   "outputs": [],
   "source": [
    "prompt1=PromptTemplate(\n",
    "    template=\"Wrtie a joke about {topic}\",\n",
    "    input_variables=[\"topic\"]\n",
    ")\n",
    "model = ChatOpenAI(model=\"gpt-5-nano\")\n",
    "parser = StrOutputParser()\n",
    "prompt2=PromptTemplate(\n",
    "    template=\"Explain the following {text}\",\n",
    "    input_variables=[\"text\"]\n",
    ")\n"
   ]
  },
  {
   "cell_type": "code",
   "execution_count": 7,
   "id": "77684f72",
   "metadata": {},
   "outputs": [
    {
     "name": "stdout",
     "output_type": "stream",
     "text": [
      "Here’s what each joke is getting at, in plain terms:\n",
      "\n",
      "- Why did the stock trader bring a ladder to the exchange? To chase the highs and survive the lows.\n",
      "  - Explanation: A pun on price swings. “Highs” and “lows” are common stock-price terms, and the ladder imagery humorously suggests needing a tool to reach the highs and endure the downs.\n",
      "\n",
      "- I invested in a bakery stock—the dough kept rising, which really helped my balance sheet.\n",
      "  - Explanation: “Dough” is slang for money, and bakery dough rises with yeast. The joke plays on both meanings: rising dough and a stronger (rising) balance sheet.\n",
      "\n",
      "- The stock market motto: buy the dip, sell the sizzle, and hope the coffee lasts through the ride.\n",
      "  - Explanation: “Buy the dip” is a real investing phrase meaning buy when prices dip. “Sell the sizzle” riffs on marketing says—selling the excitement or hype rather than the substance. The coffee line adds a humorous, relatable touch about staying awake through volatility.\n",
      "\n",
      "- I went all-in on penny stocks—now my portfolio costs less than my lunch.\n",
      "  - Explanation: Penny stocks are very low-priced, high-risk shares. “All-in” implies taking a big risk, and the punchline exaggerates that the portfolio became so cheap it’s barely worth a meal.\n",
      "\n",
      "- The stock market is the only place where a bear hug isn’t for cuddling—it’s a trade term.\n",
      "  - Explanation: A “bear hug” in business is a real term used in takeovers; here it’s a pun on a bear market (downtrending prices). The joke plays on the dual meaning: a hostile takeover tactic vs. a cuddly hug.\n",
      "\n",
      "If you want, I can group these by vibe (punny wordplay, market jargon, light finance humor) or tailor explanations to a specific tone. Which vibe would you prefer?\n"
     ]
    }
   ],
   "source": [
    "chain=RunnableSequence(prompt,model,parser,prompt2,model,parser)\n",
    "result=chain.invoke({\"topic\":\"Stock Market\"})\n",
    "print(result)"
   ]
  },
  {
   "cell_type": "markdown",
   "id": "276148f9",
   "metadata": {},
   "source": [
    "RUNNABLE PARALLEL"
   ]
  },
  {
   "cell_type": "code",
   "execution_count": 11,
   "id": "e2bccda4",
   "metadata": {},
   "outputs": [],
   "source": [
    "from langchain.schema.runnable import RunnableParallel,RunnableSequence\n",
    "\n",
    "prompt1=PromptTemplate(\n",
    "    template=\"Write tweet about {topic}\",\n",
    "    input_variables=[\"topic\"]\n",
    ")\n",
    "\n",
    "model = ChatOpenAI(model=\"gpt-5-nano\")\n",
    "\n",
    "parser = StrOutputParser()\n",
    "prompt2=PromptTemplate(\n",
    "    template=\"Write an reddit post about {topic}\",\n",
    "    input_variables=[\"text\"]\n",
    ")\n",
    "\n",
    "parallel=RunnableParallel({\n",
    "    \"Tweet\":RunnableSequence(prompt1,model,parser),\n",
    "    \"Reddit Post\":RunnableSequence(prompt2,model,parser) \n",
    "})"
   ]
  },
  {
   "cell_type": "code",
   "execution_count": 14,
   "id": "9fb764e4",
   "metadata": {},
   "outputs": [
    {
     "name": "stdout",
     "output_type": "stream",
     "text": [
      "Here are a few tweet-length options about the stock market. Want a different tone or length?\n",
      "\n",
      "- The stock market isn’t a crystal ball—it's a marathon of research, patience, and risk management. Do the work, stay diversified, and let time do the heavy lifting.\n",
      "- Investing isn’t about timing the market; it’s about time in the market. Keep costs low, stay diversified, and ride the long wave.\n",
      "- Volatility is the price of admission to growth. Use pullbacks to rebalance and buy quality on sale.\n",
      "- Fewer trades, more thinking: define your plan, stick to it, and let compounding do the work.\n",
      "- Markets climb walls of worry. Focus on fundamentals, patience, and a sensible risk plan.\n"
     ]
    }
   ],
   "source": [
    "result=parallel.invoke({\"topic\":\"Stock Market\"})\n",
    "print(result[\"Tweet\"])\n"
   ]
  },
  {
   "cell_type": "code",
   "execution_count": 15,
   "id": "03bd942e",
   "metadata": {},
   "outputs": [
    {
     "name": "stdout",
     "output_type": "stream",
     "text": [
      "Title: What the stock market has taught me after 8 years of investing\n",
      "\n",
      "Body:\n",
      "I’m not here to hype or to pretend I’ve cracked the code, but the stock market has taught me a few things that actually stuck once I stopped chasing the latest hot tip.\n",
      "\n",
      "- It’s forward-looking and noisy. Prices reflect what people expect will happen next, plus a lot of emotion. That combination makes daily moves feel random at times.\n",
      "\n",
      "- Time > timing. You will not consistently time the market. The best long-term approach I’ve found is staying invested and letting compounding do the work.\n",
      "\n",
      "- Costs matter. Small differences in fees, taxes, and turnover compound into meaningful gaps over years. Low-cost index funds or broad ETFs often win over trying to pick winners.\n",
      "\n",
      "- Diversification helps. A core allocation to a broad market fund, plus a little variety in satellite positions, tends to smooth out volatility and reduce risk of ruin.\n",
      "\n",
      "- Simple plans beat complicated ones. A straightforward plan—invest regularly, rebalance annually, and avoid over-trading—almost always outperforms frantic, emotion-driven moves.\n",
      "\n",
      "- Psychology is the wild card. Fear and greed drive most mistakes. The market won’t care about your problems if you lose your chance to stay invested.\n",
      "\n",
      "- Don’t confuse being right with making money in the short term. Being patient and disciplined beats being “correct” on a single stock or a single headline.\n",
      "\n",
      "- Realistic expectations. The market can and will go down, sometimes a lot, before it goes up again. Expect volatility as the price for potential gains, not a bug in the system.\n",
      "\n",
      "If you’re starting out (or restarting), my practical take:\n",
      "- Start with low-cost, broad-market index funds or ETFs for the core.\n",
      "- Add a small, thoughtful satellite allocation if you want exposure to themes you understand, but don’t overdo it.\n",
      "- Automate regular contributions. Set-and-forget beats try-and-fix.\n",
      "- Rebalance once a year to maintain your target risk level.\n",
      "- Keep taxes and fees in mind; tax-advantaged accounts help long-term returns.\n",
      "\n",
      "Not financial advice—just what’s worked for me and what I wish I’d known sooner. I’d love to hear from you:\n",
      "- What’s the single biggest lesson you’ve learned about the stock market?\n",
      "- Do you prefer index funds, active strategies, or a mix? Why?\n",
      "- What resource or habit has helped you stay on track?\n",
      "\n",
      "Share your stories, rules, and any underrated resources you’ve found useful.\n"
     ]
    }
   ],
   "source": [
    "print(result[\"Reddit Post\"])"
   ]
  },
  {
   "cell_type": "code",
   "execution_count": null,
   "id": "996e5be1",
   "metadata": {},
   "outputs": [],
   "source": []
  },
  {
   "cell_type": "code",
   "execution_count": null,
   "id": "022f787e",
   "metadata": {},
   "outputs": [],
   "source": []
  },
  {
   "cell_type": "code",
   "execution_count": null,
   "id": "98fba834",
   "metadata": {},
   "outputs": [],
   "source": []
  },
  {
   "cell_type": "code",
   "execution_count": null,
   "id": "63d042cc",
   "metadata": {},
   "outputs": [],
   "source": []
  },
  {
   "cell_type": "code",
   "execution_count": null,
   "id": "81ada3d1",
   "metadata": {},
   "outputs": [],
   "source": []
  },
  {
   "cell_type": "code",
   "execution_count": null,
   "id": "88f11972",
   "metadata": {},
   "outputs": [],
   "source": []
  },
  {
   "cell_type": "code",
   "execution_count": null,
   "id": "27db4642",
   "metadata": {},
   "outputs": [],
   "source": []
  },
  {
   "cell_type": "code",
   "execution_count": null,
   "id": "b6d1ed15",
   "metadata": {},
   "outputs": [],
   "source": []
  }
 ],
 "metadata": {
  "kernelspec": {
   "display_name": "venv",
   "language": "python",
   "name": "python3"
  },
  "language_info": {
   "codemirror_mode": {
    "name": "ipython",
    "version": 3
   },
   "file_extension": ".py",
   "mimetype": "text/x-python",
   "name": "python",
   "nbconvert_exporter": "python",
   "pygments_lexer": "ipython3",
   "version": "3.11.2"
  }
 },
 "nbformat": 4,
 "nbformat_minor": 5
}
