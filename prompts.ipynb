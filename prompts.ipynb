{
 "cells": [
  {
   "cell_type": "code",
   "execution_count": 2,
   "id": "6b65d686",
   "metadata": {},
   "outputs": [
    {
     "name": "stdout",
     "output_type": "stream",
     "text": [
      "PE ratio stands for price-to-earnings ratio. It’s a quick way to gauge how much investors are willing to pay for each dollar a company earns.\n",
      "\n",
      "- How it’s calculated:\n",
      "  - Trailing PE = stock price / earnings per share (EPS) over the last 12 months.\n",
      "  - Forward (or estimated) PE = stock price / expected EPS for the next year (based on analyst estimates).\n",
      "\n",
      "- What it means (in simple terms):\n",
      "  - If a stock is $100 and its trailing EPS is $5, the trailing PE is 20. Investors are paying $20 for each $1 of the company’s recent yearly earnings.\n",
      "  - A higher PE can mean the stock is expected to grow a lot or is just expensive. A lower PE can mean it’s cheaper or maybe there are problems.\n",
      "\n",
      "- Quick example:\n",
      "  - Price = $100, trailing EPS = $5 → trailing PE = 100 / 5 = 20.\n",
      "  - If next year’s expected EPS = $6 → forward PE = 100 / 6 ≈ 16.7.\n",
      "\n",
      "- Important cautions:\n",
      "  - PE isn’t a guarantee of future performance. A high or low number can be due to growth expectations, risk, or even accounting quirks.\n",
      "  - It doesn’t account for debt, cash flow, or how fast a company is growing.\n",
      "  - Companies with no earnings or big one-time charges can have misleading or meaningless PE.\n",
      "\n",
      "- How to use it well:\n",
      "  - Compare a company’s PE to its industry peers and to the overall market.\n",
      "  - Look at the trend over time (rising or falling PE) and consider forward estimates.\n",
      "  - Use it with other metrics (like growth rate, PEG ratio, debt, cash flow) for a fuller picture.\n",
      "\n",
      "If you want, I can calculate the PE for a specific stock and explain what it suggests.\n"
     ]
    }
   ],
   "source": [
    "from langchain_openai import ChatOpenAI\n",
    "from dotenv import load_dotenv\n",
    "load_dotenv()\n",
    "\n",
    "from langchain_core.prompts import ChatPromptTemplate\n",
    "\n",
    "# Step 1: Create template\n",
    "chat_template = ChatPromptTemplate([\n",
    "    ('system', 'You are a helpful {domain} expert'),\n",
    "    ('human', 'Explain in simple terms, what is {topic}')\n",
    "])\n",
    "\n",
    "# Step 2: Format template\n",
    "prompt = chat_template.invoke({'domain':'stock market','topic':'PE Ratio'})\n",
    "\n",
    "# Step 3: Send to AI model\n",
    "model = ChatOpenAI(model='gpt-5-nano')\n",
    "response = model.invoke(prompt)  \n",
    "print(response.content)"
   ]
  },
  {
   "cell_type": "code",
   "execution_count": null,
   "metadata": {},
   "outputs": [],
   "source": []
  },
  {
   "cell_type": "code",
   "execution_count": null,
   "id": "40c7cfe4",
   "metadata": {},
   "outputs": [],
   "source": []
  }
 ],
 "metadata": {
  "kernelspec": {
   "display_name": "venv",
   "language": "python",
   "name": "python3"
  },
  "language_info": {
   "codemirror_mode": {
    "name": "ipython",
    "version": 3
   },
   "file_extension": ".py",
   "mimetype": "text/x-python",
   "name": "python",
   "nbconvert_exporter": "python",
   "pygments_lexer": "ipython3",
   "version": "3.11.2"
  }
 },
 "nbformat": 4,
 "nbformat_minor": 5
}
