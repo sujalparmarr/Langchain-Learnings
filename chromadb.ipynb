{
 "cells": [
  {
   "cell_type": "code",
   "execution_count": 1,
   "id": "d954b2eb",
   "metadata": {},
   "outputs": [
    {
     "data": {
      "text/plain": [
       "True"
      ]
     },
     "execution_count": 1,
     "metadata": {},
     "output_type": "execute_result"
    }
   ],
   "source": [
    "from langchain_openai import OpenAIEmbeddings\n",
    "from langchain.vectorstores import Chroma\n",
    "from dotenv import load_dotenv\n",
    "load_dotenv()\n"
   ]
  },
  {
   "cell_type": "code",
   "execution_count": 3,
   "id": "4a06ea38",
   "metadata": {},
   "outputs": [],
   "source": [
    "from langchain.schema import Document\n",
    "\n",
    "# Create LangChain documents for Movies\n",
    "\n",
    "doc1 = Document(\n",
    "    page_content=\"The Shawshank Redemption is a classic drama film that tells the story of Andy Dufresne, a banker who is wrongly imprisoned. It highlights hope, friendship, and the fight for freedom.\",\n",
    "    metadata={\"genre\": \"Drama\"}\n",
    ")\n",
    "\n",
    "doc2 = Document(\n",
    "    page_content=\"Inception is a science fiction thriller directed by Christopher Nolan. It explores the world of dreams within dreams, blending action with deep psychological concepts.\",\n",
    "    metadata={\"genre\": \"Sci-Fi\"}\n",
    ")\n",
    "\n",
    "doc3 = Document(\n",
    "    page_content=\"The Dark Knight is a superhero film where Batman faces his greatest rival, the Joker. Known for Heath Ledger's legendary performance, it explores chaos, morality, and justice.\",\n",
    "    metadata={\"genre\": \"Action\"}\n",
    ")\n",
    "\n",
    "doc4 = Document(\n",
    "    page_content=\"Interstellar is a science fiction epic that follows astronauts traveling through a wormhole to save humanity. It blends emotional storytelling with scientific concepts like relativity and time dilation.\",\n",
    "    metadata={\"genre\": \"Sci-Fi\"}\n",
    ")\n",
    "\n",
    "doc5 = Document(\n",
    "    page_content=\"Forrest Gump is a heartwarming film about a simple man with a kind heart who unwittingly influences major events in American history while pursuing love and friendship.\",\n",
    "    metadata={\"genre\": \"Drama\"}\n",
    ")\n",
    "\n",
    "docs = [doc1, doc2, doc3, doc4, doc5]"
   ]
  },
  {
   "cell_type": "code",
   "execution_count": 4,
   "id": "7a6826ac",
   "metadata": {},
   "outputs": [
    {
     "name": "stderr",
     "output_type": "stream",
     "text": [
      "C:\\Users\\sujal\\AppData\\Local\\Temp\\ipykernel_8544\\697003433.py:1: LangChainDeprecationWarning: The class `Chroma` was deprecated in LangChain 0.2.9 and will be removed in 1.0. An updated version of the class exists in the :class:`~langchain-chroma package and should be used instead. To use it run `pip install -U :class:`~langchain-chroma` and import as `from :class:`~langchain_chroma import Chroma``.\n",
      "  vector_store = Chroma(\n"
     ]
    }
   ],
   "source": [
    "vector_store = Chroma(\n",
    "    embedding_function=OpenAIEmbeddings(),\n",
    "    persist_directory='my_chroma_db',\n",
    "    collection_name='sample'\n",
    ")"
   ]
  },
  {
   "cell_type": "code",
   "execution_count": 5,
   "id": "f53deaf2",
   "metadata": {},
   "outputs": [
    {
     "data": {
      "text/plain": [
       "['e4962165-122a-4db2-b1de-97303068fdb2',\n",
       " '1b70eed4-5581-4a89-ac1d-5423612e4ac6',\n",
       " 'bd872d38-8c60-4802-b825-a95bb1a539a6',\n",
       " '7d5aa48f-36a4-435e-b1e0-d969b5c3167f',\n",
       " '1fbe8ebe-0eb1-4f3b-a35d-6215014aa76c']"
      ]
     },
     "execution_count": 5,
     "metadata": {},
     "output_type": "execute_result"
    }
   ],
   "source": [
    "# add documents\n",
    "vector_store.add_documents(docs)"
   ]
  },
  {
   "cell_type": "code",
   "execution_count": 6,
   "id": "34784483",
   "metadata": {},
   "outputs": [
    {
     "data": {
      "text/plain": [
       "{'ids': ['e4962165-122a-4db2-b1de-97303068fdb2',\n",
       "  '1b70eed4-5581-4a89-ac1d-5423612e4ac6',\n",
       "  'bd872d38-8c60-4802-b825-a95bb1a539a6',\n",
       "  '7d5aa48f-36a4-435e-b1e0-d969b5c3167f',\n",
       "  '1fbe8ebe-0eb1-4f3b-a35d-6215014aa76c'],\n",
       " 'embeddings': array([[ 0.00248989, -0.0377811 , -0.00626236, ..., -0.01261879,\n",
       "         -0.02314281,  0.02147452],\n",
       "        [ 0.00381993, -0.01759751, -0.00351761, ...,  0.00578501,\n",
       "         -0.01588436, -0.02955172],\n",
       "        [-0.01106776, -0.03571445, -0.02062262, ..., -0.00818456,\n",
       "         -0.023264  , -0.02584338],\n",
       "        [ 0.0107366 , -0.03138094, -0.00531047, ..., -0.01958417,\n",
       "         -0.00503419, -0.02832252],\n",
       "        [-0.01576508, -0.02148759,  0.00058853, ..., -0.0293263 ,\n",
       "         -0.01634109, -0.02018531]], shape=(5, 1536)),\n",
       " 'documents': ['The Shawshank Redemption is a classic drama film that tells the story of Andy Dufresne, a banker who is wrongly imprisoned. It highlights hope, friendship, and the fight for freedom.',\n",
       "  'Inception is a science fiction thriller directed by Christopher Nolan. It explores the world of dreams within dreams, blending action with deep psychological concepts.',\n",
       "  \"The Dark Knight is a superhero film where Batman faces his greatest rival, the Joker. Known for Heath Ledger's legendary performance, it explores chaos, morality, and justice.\",\n",
       "  'Interstellar is a science fiction epic that follows astronauts traveling through a wormhole to save humanity. It blends emotional storytelling with scientific concepts like relativity and time dilation.',\n",
       "  'Forrest Gump is a heartwarming film about a simple man with a kind heart who unwittingly influences major events in American history while pursuing love and friendship.'],\n",
       " 'uris': None,\n",
       " 'included': ['embeddings', 'documents', 'metadatas'],\n",
       " 'data': None,\n",
       " 'metadatas': [{'genre': 'Drama'},\n",
       "  {'genre': 'Sci-Fi'},\n",
       "  {'genre': 'Action'},\n",
       "  {'genre': 'Sci-Fi'},\n",
       "  {'genre': 'Drama'}]}"
      ]
     },
     "execution_count": 6,
     "metadata": {},
     "output_type": "execute_result"
    }
   ],
   "source": [
    "# view documents\n",
    "vector_store.get(include=['embeddings','documents', 'metadatas'])"
   ]
  },
  {
   "cell_type": "code",
   "execution_count": 7,
   "id": "b9ef486f",
   "metadata": {},
   "outputs": [
    {
     "data": {
      "text/plain": [
       "[Document(metadata={'genre': 'Action'}, page_content=\"The Dark Knight is a superhero film where Batman faces his greatest rival, the Joker. Known for Heath Ledger's legendary performance, it explores chaos, morality, and justice.\"),\n",
       " Document(metadata={'genre': 'Sci-Fi'}, page_content='Inception is a science fiction thriller directed by Christopher Nolan. It explores the world of dreams within dreams, blending action with deep psychological concepts.')]"
      ]
     },
     "execution_count": 7,
     "metadata": {},
     "output_type": "execute_result"
    }
   ],
   "source": [
    "# search documents\n",
    "vector_store.similarity_search(\n",
    "    query='Which are action movies?',\n",
    "    k=2\n",
    ")"
   ]
  },
  {
   "cell_type": "code",
   "execution_count": 8,
   "id": "5ecd4cbc",
   "metadata": {},
   "outputs": [
    {
     "data": {
      "text/plain": [
       "[(Document(metadata={'genre': 'Action'}, page_content=\"The Dark Knight is a superhero film where Batman faces his greatest rival, the Joker. Known for Heath Ledger's legendary performance, it explores chaos, morality, and justice.\"),\n",
       "  0.4346369802951813),\n",
       " (Document(metadata={'genre': 'Sci-Fi'}, page_content='Inception is a science fiction thriller directed by Christopher Nolan. It explores the world of dreams within dreams, blending action with deep psychological concepts.'),\n",
       "  0.45491859316825867)]"
      ]
     },
     "execution_count": 8,
     "metadata": {},
     "output_type": "execute_result"
    }
   ],
   "source": [
    "# search with similarity score\n",
    "vector_store.similarity_search_with_score(\n",
    "    query='Which are action movies?',\n",
    "    k=2\n",
    ")"
   ]
  },
  {
   "cell_type": "code",
   "execution_count": null,
   "id": "45837208",
   "metadata": {},
   "outputs": [],
   "source": []
  },
  {
   "cell_type": "code",
   "execution_count": null,
   "id": "d92d934e",
   "metadata": {},
   "outputs": [],
   "source": []
  },
  {
   "cell_type": "code",
   "execution_count": null,
   "id": "2b107b2f",
   "metadata": {},
   "outputs": [],
   "source": []
  }
 ],
 "metadata": {
  "kernelspec": {
   "display_name": "venv",
   "language": "python",
   "name": "python3"
  },
  "language_info": {
   "codemirror_mode": {
    "name": "ipython",
    "version": 3
   },
   "file_extension": ".py",
   "mimetype": "text/x-python",
   "name": "python",
   "nbconvert_exporter": "python",
   "pygments_lexer": "ipython3",
   "version": "3.11.2"
  }
 },
 "nbformat": 4,
 "nbformat_minor": 5
}
