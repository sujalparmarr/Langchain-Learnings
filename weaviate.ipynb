{
 "cells": [
  {
   "cell_type": "code",
   "execution_count": null,
   "id": "15ad3abc",
   "metadata": {},
   "outputs": [],
   "source": [
    "!pip install langchain weaviate-client openai\n",
    "\n",
    "import weaviate\n",
    "from langchain.vectorstores import Weaviate\n",
    "from langchain.embeddings.openai import OpenAIEmbeddings\n",
    "from langchain.docstore.document import Document\n",
    "\n",
    "client = weaviate.Client(\"http://localhost:8080\")  # change if needed\n",
    "\n",
    "documents = [\n",
    "    Document(page_content=\"Python is great for data science.\"),\n",
    "    Document(page_content=\"Weaviate is a vector database.\"),\n",
    "    Document(page_content=\"LangChain works with different vector stores.\")\n",
    "]\n",
    "\n",
    "embeddings = OpenAIEmbeddings()\n",
    "\n",
    "vectorstore = Weaviate(\n",
    "    client=client,\n",
    "    index_name=\"LangChainDocs\",\n",
    "    embedding=embeddings\n",
    ")\n",
    "\n",
    "vectorstore.add_documents(documents)\n",
    "\n",
    "query = \"Which database works with LangChain?\"\n",
    "results = vectorstore.similarity_search(query, k=2)\n",
    "for i, doc in enumerate(results):\n",
    "    print(f\"Result {i+1}: {doc.page_content}\")\n"
   ]
  }
 ],
 "metadata": {
  "kernelspec": {
   "display_name": "Python 3 (ipykernel)",
   "language": "python",
   "name": "python3"
  },
  "language_info": {
   "codemirror_mode": {
    "name": "ipython",
    "version": 3
   },
   "file_extension": ".py",
   "mimetype": "text/x-python",
   "name": "python",
   "nbconvert_exporter": "python",
   "pygments_lexer": "ipython3",
   "version": "3.10.9"
  }
 },
 "nbformat": 4,
 "nbformat_minor": 5
}
